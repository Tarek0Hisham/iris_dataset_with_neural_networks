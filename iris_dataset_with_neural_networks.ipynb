{
  "nbformat": 4,
  "nbformat_minor": 0,
  "metadata": {
    "colab": {
      "provenance": []
    },
    "kernelspec": {
      "name": "python3",
      "display_name": "Python 3"
    },
    "language_info": {
      "name": "python"
    }
  },
  "cells": [
    {
      "cell_type": "code",
      "execution_count": null,
      "metadata": {
        "id": "yLUWY_uQRmhF"
      },
      "outputs": [],
      "source": [
        "from sklearn.datasets import load_iris\n",
        "from sklearn.preprocessing import OneHotEncoder\n",
        "from keras.models import Sequential\n",
        "from keras.layers import Dense\n",
        "from sklearn.model_selection import train_test_split\n",
        "from keras.models import Model\n",
        "from keras.layers import Input, BatchNormalization\n",
        "\n",
        "import tensorflow as tf\n",
        "from sklearn import datasets\n",
        "from sklearn.preprocessing import StandardScaler\n",
        "from sklearn.compose import ColumnTransformer"
      ]
    },
    {
      "cell_type": "code",
      "source": [
        "#load iris\n",
        "iris = load_iris()\n",
        "X=iris.data\n",
        "y = iris.target.reshape(-1,1)"
      ],
      "metadata": {
        "id": "fH0cKsQKRomn"
      },
      "execution_count": null,
      "outputs": []
    },
    {
      "cell_type": "code",
      "source": [
        "X.shape"
      ],
      "metadata": {
        "colab": {
          "base_uri": "https://localhost:8080/"
        },
        "id": "CMDVNIrjSDbq",
        "outputId": "3ab75a1d-a53d-4a9e-d1fc-8271244cefcb"
      },
      "execution_count": null,
      "outputs": [
        {
          "output_type": "execute_result",
          "data": {
            "text/plain": [
              "(150, 4)"
            ]
          },
          "metadata": {},
          "execution_count": 3
        }
      ]
    },
    {
      "cell_type": "code",
      "source": [
        "y.shape"
      ],
      "metadata": {
        "colab": {
          "base_uri": "https://localhost:8080/"
        },
        "id": "C4izpG8eSFLA",
        "outputId": "c7ef3338-91b0-4392-f221-fd92920a1313"
      },
      "execution_count": null,
      "outputs": [
        {
          "output_type": "execute_result",
          "data": {
            "text/plain": [
              "(150, 1)"
            ]
          },
          "metadata": {},
          "execution_count": 4
        }
      ]
    },
    {
      "cell_type": "markdown",
      "source": [
        "#Processing"
      ],
      "metadata": {
        "id": "ocgI7ti_TbwC"
      }
    },
    {
      "cell_type": "code",
      "source": [
        "X_train, X_test, y_train, y_test = train_test_split(X, y, test_size=0.2, random_state=42)"
      ],
      "metadata": {
        "id": "hdSVEXwNTfb5"
      },
      "execution_count": null,
      "outputs": []
    },
    {
      "cell_type": "code",
      "source": [
        "# Standardization\n",
        "scaler = StandardScaler()\n",
        "X_train = scaler.fit_transform(X_train)\n",
        "X_test = scaler.transform(X_test)"
      ],
      "metadata": {
        "id": "uo1F7vzRVdie"
      },
      "execution_count": null,
      "outputs": []
    },
    {
      "cell_type": "code",
      "source": [
        "y_train.shape"
      ],
      "metadata": {
        "colab": {
          "base_uri": "https://localhost:8080/"
        },
        "id": "4v3nwWGXWE0j",
        "outputId": "e26698cc-4d4f-43a2-861e-127039990bab"
      },
      "execution_count": null,
      "outputs": [
        {
          "output_type": "execute_result",
          "data": {
            "text/plain": [
              "(120, 1)"
            ]
          },
          "metadata": {},
          "execution_count": 7
        }
      ]
    },
    {
      "cell_type": "code",
      "source": [
        "from tensorflow.keras.utils import to_categorical\n",
        "y_train= to_categorical(y_train)\n",
        "y_test = to_categorical(y_test)"
      ],
      "metadata": {
        "id": "oUTNBV5uWaHd"
      },
      "execution_count": null,
      "outputs": []
    },
    {
      "cell_type": "markdown",
      "source": [
        "#NEURAL"
      ],
      "metadata": {
        "id": "RaRxG1LUTtB7"
      }
    },
    {
      "cell_type": "code",
      "source": [
        "model = Sequential()\n",
        "model.add(Dense(8, input_dim=4, activation='relu'))\n",
        "model.add(Dense(3, activation='softmax'))"
      ],
      "metadata": {
        "id": "ZOCQPsadSUSu"
      },
      "execution_count": null,
      "outputs": []
    },
    {
      "cell_type": "code",
      "source": [
        "# Create KerasClassifier\n",
        "model.compile(loss='categorical_crossentropy', optimizer='adam', metrics=['accuracy'])\n"
      ],
      "metadata": {
        "id": "4MMjWnWmSfU6"
      },
      "execution_count": null,
      "outputs": []
    },
    {
      "cell_type": "code",
      "source": [
        "model.fit(X_train, y_train, epochs=50, batch_size=16, validation_data=(X_test, y_test))\n"
      ],
      "metadata": {
        "colab": {
          "base_uri": "https://localhost:8080/"
        },
        "id": "Nzh-IdptStJv",
        "outputId": "905bc8dc-d06b-4263-ebff-14c46086964c"
      },
      "execution_count": null,
      "outputs": [
        {
          "output_type": "stream",
          "name": "stdout",
          "text": [
            "Epoch 1/50\n",
            "8/8 [==============================] - 2s 82ms/step - loss: 0.7769 - accuracy: 0.6250 - val_loss: 0.7041 - val_accuracy: 0.7333\n",
            "Epoch 2/50\n",
            "8/8 [==============================] - 0s 11ms/step - loss: 0.7571 - accuracy: 0.6333 - val_loss: 0.6837 - val_accuracy: 0.7333\n",
            "Epoch 3/50\n",
            "8/8 [==============================] - 0s 9ms/step - loss: 0.7384 - accuracy: 0.6583 - val_loss: 0.6649 - val_accuracy: 0.7333\n",
            "Epoch 4/50\n",
            "8/8 [==============================] - 0s 8ms/step - loss: 0.7209 - accuracy: 0.6667 - val_loss: 0.6476 - val_accuracy: 0.7333\n",
            "Epoch 5/50\n",
            "8/8 [==============================] - 0s 11ms/step - loss: 0.7042 - accuracy: 0.6750 - val_loss: 0.6313 - val_accuracy: 0.7333\n",
            "Epoch 6/50\n",
            "8/8 [==============================] - 0s 16ms/step - loss: 0.6891 - accuracy: 0.6833 - val_loss: 0.6162 - val_accuracy: 0.7333\n",
            "Epoch 7/50\n",
            "8/8 [==============================] - 0s 20ms/step - loss: 0.6745 - accuracy: 0.6917 - val_loss: 0.6026 - val_accuracy: 0.7333\n",
            "Epoch 8/50\n",
            "8/8 [==============================] - 0s 23ms/step - loss: 0.6607 - accuracy: 0.7000 - val_loss: 0.5898 - val_accuracy: 0.7333\n",
            "Epoch 9/50\n",
            "8/8 [==============================] - 0s 12ms/step - loss: 0.6474 - accuracy: 0.7250 - val_loss: 0.5778 - val_accuracy: 0.7667\n",
            "Epoch 10/50\n",
            "8/8 [==============================] - 0s 12ms/step - loss: 0.6352 - accuracy: 0.7167 - val_loss: 0.5662 - val_accuracy: 0.7667\n",
            "Epoch 11/50\n",
            "8/8 [==============================] - 0s 11ms/step - loss: 0.6230 - accuracy: 0.7250 - val_loss: 0.5554 - val_accuracy: 0.8000\n",
            "Epoch 12/50\n",
            "8/8 [==============================] - 0s 11ms/step - loss: 0.6115 - accuracy: 0.7583 - val_loss: 0.5449 - val_accuracy: 0.8000\n",
            "Epoch 13/50\n",
            "8/8 [==============================] - 0s 10ms/step - loss: 0.6004 - accuracy: 0.7833 - val_loss: 0.5341 - val_accuracy: 0.8000\n",
            "Epoch 14/50\n",
            "8/8 [==============================] - 0s 11ms/step - loss: 0.5898 - accuracy: 0.7833 - val_loss: 0.5238 - val_accuracy: 0.8333\n",
            "Epoch 15/50\n",
            "8/8 [==============================] - 0s 13ms/step - loss: 0.5791 - accuracy: 0.8083 - val_loss: 0.5133 - val_accuracy: 0.8333\n",
            "Epoch 16/50\n",
            "8/8 [==============================] - 0s 15ms/step - loss: 0.5688 - accuracy: 0.8167 - val_loss: 0.5035 - val_accuracy: 0.8333\n",
            "Epoch 17/50\n",
            "8/8 [==============================] - 0s 13ms/step - loss: 0.5591 - accuracy: 0.8250 - val_loss: 0.4943 - val_accuracy: 0.8333\n",
            "Epoch 18/50\n",
            "8/8 [==============================] - 0s 12ms/step - loss: 0.5498 - accuracy: 0.8250 - val_loss: 0.4852 - val_accuracy: 0.8333\n",
            "Epoch 19/50\n",
            "8/8 [==============================] - 0s 13ms/step - loss: 0.5405 - accuracy: 0.8250 - val_loss: 0.4765 - val_accuracy: 0.8667\n",
            "Epoch 20/50\n",
            "8/8 [==============================] - 0s 8ms/step - loss: 0.5315 - accuracy: 0.8250 - val_loss: 0.4680 - val_accuracy: 0.8667\n",
            "Epoch 21/50\n",
            "8/8 [==============================] - 0s 15ms/step - loss: 0.5227 - accuracy: 0.8333 - val_loss: 0.4601 - val_accuracy: 0.8667\n",
            "Epoch 22/50\n",
            "8/8 [==============================] - 0s 24ms/step - loss: 0.5142 - accuracy: 0.8333 - val_loss: 0.4526 - val_accuracy: 0.8667\n",
            "Epoch 23/50\n",
            "8/8 [==============================] - 0s 12ms/step - loss: 0.5061 - accuracy: 0.8250 - val_loss: 0.4451 - val_accuracy: 0.8667\n",
            "Epoch 24/50\n",
            "8/8 [==============================] - 0s 25ms/step - loss: 0.4984 - accuracy: 0.8167 - val_loss: 0.4378 - val_accuracy: 0.8667\n",
            "Epoch 25/50\n",
            "8/8 [==============================] - 0s 15ms/step - loss: 0.4911 - accuracy: 0.8083 - val_loss: 0.4306 - val_accuracy: 0.8667\n",
            "Epoch 26/50\n",
            "8/8 [==============================] - 0s 15ms/step - loss: 0.4838 - accuracy: 0.8083 - val_loss: 0.4239 - val_accuracy: 0.8667\n",
            "Epoch 27/50\n",
            "8/8 [==============================] - 0s 8ms/step - loss: 0.4770 - accuracy: 0.8083 - val_loss: 0.4178 - val_accuracy: 0.8667\n",
            "Epoch 28/50\n",
            "8/8 [==============================] - 0s 14ms/step - loss: 0.4703 - accuracy: 0.8083 - val_loss: 0.4112 - val_accuracy: 0.8667\n",
            "Epoch 29/50\n",
            "8/8 [==============================] - 0s 11ms/step - loss: 0.4638 - accuracy: 0.8083 - val_loss: 0.4047 - val_accuracy: 0.8667\n",
            "Epoch 30/50\n",
            "8/8 [==============================] - 0s 11ms/step - loss: 0.4575 - accuracy: 0.8083 - val_loss: 0.3980 - val_accuracy: 0.9000\n",
            "Epoch 31/50\n",
            "8/8 [==============================] - 0s 11ms/step - loss: 0.4513 - accuracy: 0.8083 - val_loss: 0.3917 - val_accuracy: 0.9000\n",
            "Epoch 32/50\n",
            "8/8 [==============================] - 0s 11ms/step - loss: 0.4452 - accuracy: 0.8250 - val_loss: 0.3857 - val_accuracy: 0.9000\n",
            "Epoch 33/50\n",
            "8/8 [==============================] - 0s 13ms/step - loss: 0.4395 - accuracy: 0.8333 - val_loss: 0.3801 - val_accuracy: 0.9000\n",
            "Epoch 34/50\n",
            "8/8 [==============================] - 0s 11ms/step - loss: 0.4339 - accuracy: 0.8417 - val_loss: 0.3741 - val_accuracy: 0.9000\n",
            "Epoch 35/50\n",
            "8/8 [==============================] - 0s 16ms/step - loss: 0.4278 - accuracy: 0.8417 - val_loss: 0.3690 - val_accuracy: 0.9000\n",
            "Epoch 36/50\n",
            "8/8 [==============================] - 0s 15ms/step - loss: 0.4224 - accuracy: 0.8417 - val_loss: 0.3640 - val_accuracy: 0.9000\n",
            "Epoch 37/50\n",
            "8/8 [==============================] - 0s 18ms/step - loss: 0.4171 - accuracy: 0.8417 - val_loss: 0.3588 - val_accuracy: 0.9333\n",
            "Epoch 38/50\n",
            "8/8 [==============================] - 0s 11ms/step - loss: 0.4122 - accuracy: 0.8417 - val_loss: 0.3538 - val_accuracy: 0.9333\n",
            "Epoch 39/50\n",
            "8/8 [==============================] - 0s 11ms/step - loss: 0.4071 - accuracy: 0.8417 - val_loss: 0.3492 - val_accuracy: 0.9333\n",
            "Epoch 40/50\n",
            "8/8 [==============================] - 0s 9ms/step - loss: 0.4028 - accuracy: 0.8417 - val_loss: 0.3447 - val_accuracy: 0.9333\n",
            "Epoch 41/50\n",
            "8/8 [==============================] - 0s 13ms/step - loss: 0.3981 - accuracy: 0.8417 - val_loss: 0.3401 - val_accuracy: 0.9333\n",
            "Epoch 42/50\n",
            "8/8 [==============================] - 0s 21ms/step - loss: 0.3939 - accuracy: 0.8417 - val_loss: 0.3360 - val_accuracy: 0.9333\n",
            "Epoch 43/50\n",
            "8/8 [==============================] - 0s 18ms/step - loss: 0.3895 - accuracy: 0.8417 - val_loss: 0.3321 - val_accuracy: 0.9333\n",
            "Epoch 44/50\n",
            "8/8 [==============================] - 0s 25ms/step - loss: 0.3856 - accuracy: 0.8417 - val_loss: 0.3283 - val_accuracy: 0.9333\n",
            "Epoch 45/50\n",
            "8/8 [==============================] - 0s 26ms/step - loss: 0.3818 - accuracy: 0.8417 - val_loss: 0.3242 - val_accuracy: 0.9333\n",
            "Epoch 46/50\n",
            "8/8 [==============================] - 0s 16ms/step - loss: 0.3779 - accuracy: 0.8417 - val_loss: 0.3203 - val_accuracy: 0.9333\n",
            "Epoch 47/50\n",
            "8/8 [==============================] - 0s 13ms/step - loss: 0.3742 - accuracy: 0.8417 - val_loss: 0.3166 - val_accuracy: 0.9333\n",
            "Epoch 48/50\n",
            "8/8 [==============================] - 0s 11ms/step - loss: 0.3708 - accuracy: 0.8417 - val_loss: 0.3130 - val_accuracy: 0.9333\n",
            "Epoch 49/50\n",
            "8/8 [==============================] - 0s 12ms/step - loss: 0.3674 - accuracy: 0.8417 - val_loss: 0.3092 - val_accuracy: 0.9333\n",
            "Epoch 50/50\n",
            "8/8 [==============================] - 0s 19ms/step - loss: 0.3640 - accuracy: 0.8417 - val_loss: 0.3056 - val_accuracy: 0.9333\n"
          ]
        },
        {
          "output_type": "execute_result",
          "data": {
            "text/plain": [
              "<keras.src.callbacks.History at 0x7b76f9ec7be0>"
            ]
          },
          "metadata": {},
          "execution_count": 11
        }
      ]
    },
    {
      "cell_type": "code",
      "source": [
        "loss, accuracy = model.evaluate(X_test, y_test)\n",
        "print(f\"Loss: {loss}\")\n",
        "print(f\"Accuracy: {accuracy}\")"
      ],
      "metadata": {
        "colab": {
          "base_uri": "https://localhost:8080/"
        },
        "id": "TFmYuGD2Vsss",
        "outputId": "c79398f9-0c25-40f9-dd27-faa47c04cc9e"
      },
      "execution_count": null,
      "outputs": [
        {
          "output_type": "stream",
          "name": "stdout",
          "text": [
            "1/1 [==============================] - 0s 39ms/step - loss: 0.3056 - accuracy: 0.9333\n",
            "Loss: 0.30555665493011475\n",
            "Accuracy: 0.9333333373069763\n"
          ]
        }
      ]
    },
    {
      "cell_type": "code",
      "source": [],
      "metadata": {
        "id": "Slo99KW1WgkX"
      },
      "execution_count": null,
      "outputs": []
    },
    {
      "cell_type": "code",
      "source": [],
      "metadata": {
        "id": "Smlri2OtZo1s"
      },
      "execution_count": null,
      "outputs": []
    },
    {
      "cell_type": "code",
      "source": [],
      "metadata": {
        "id": "I36bnCbcZouS"
      },
      "execution_count": null,
      "outputs": []
    },
    {
      "cell_type": "markdown",
      "source": [
        "## Build the softmax regression model with batch normalization using TensorFlow\n"
      ],
      "metadata": {
        "id": "VjaXfy8GZpTX"
      }
    },
    {
      "cell_type": "code",
      "source": [
        "model = tf.keras.models.Sequential([\n",
        "    tf.keras.layers.Input(shape=(4,)),  # Input layer with 4 features\n",
        "    tf.keras.layers.Dense(64, activation='relu'),  # Dense layer with ReLU activation\n",
        "    tf.keras.layers.BatchNormalization(),  # Batch normalization layer\n",
        "    tf.keras.layers.Dense(3, activation='softmax')  # Output layer with 3 classes and softmax activation\n",
        "])"
      ],
      "metadata": {
        "id": "tvZ2TBp5Zp4z"
      },
      "execution_count": null,
      "outputs": []
    },
    {
      "cell_type": "code",
      "source": [
        "model.compile(optimizer='adam', loss='categorical_crossentropy', metrics=['accuracy'])\n"
      ],
      "metadata": {
        "id": "zBGkQffMZ3_E"
      },
      "execution_count": null,
      "outputs": []
    },
    {
      "cell_type": "code",
      "source": [
        "model.fit(X_train, y_train, epochs=50, batch_size=16, validation_data=(X_test, y_test))\n"
      ],
      "metadata": {
        "colab": {
          "base_uri": "https://localhost:8080/"
        },
        "id": "FWVE2NRwZ4g6",
        "outputId": "15ac1124-3e95-49a9-b00d-2ce20a32aff2"
      },
      "execution_count": null,
      "outputs": [
        {
          "output_type": "stream",
          "name": "stdout",
          "text": [
            "Epoch 1/50\n",
            "8/8 [==============================] - 1s 32ms/step - loss: 0.9823 - accuracy: 0.5250 - val_loss: 0.9383 - val_accuracy: 0.6333\n",
            "Epoch 2/50\n",
            "8/8 [==============================] - 0s 9ms/step - loss: 0.6806 - accuracy: 0.7250 - val_loss: 0.8762 - val_accuracy: 0.8000\n",
            "Epoch 3/50\n",
            "8/8 [==============================] - 0s 9ms/step - loss: 0.5121 - accuracy: 0.8083 - val_loss: 0.8199 - val_accuracy: 0.9333\n",
            "Epoch 4/50\n",
            "8/8 [==============================] - 0s 7ms/step - loss: 0.4057 - accuracy: 0.8583 - val_loss: 0.7687 - val_accuracy: 0.9333\n",
            "Epoch 5/50\n",
            "8/8 [==============================] - 0s 6ms/step - loss: 0.3800 - accuracy: 0.8583 - val_loss: 0.7286 - val_accuracy: 0.9667\n",
            "Epoch 6/50\n",
            "8/8 [==============================] - 0s 6ms/step - loss: 0.3494 - accuracy: 0.8583 - val_loss: 0.7001 - val_accuracy: 1.0000\n",
            "Epoch 7/50\n",
            "8/8 [==============================] - 0s 8ms/step - loss: 0.3218 - accuracy: 0.8667 - val_loss: 0.6673 - val_accuracy: 1.0000\n",
            "Epoch 8/50\n",
            "8/8 [==============================] - 0s 9ms/step - loss: 0.2352 - accuracy: 0.9417 - val_loss: 0.6333 - val_accuracy: 1.0000\n",
            "Epoch 9/50\n",
            "8/8 [==============================] - 0s 6ms/step - loss: 0.2404 - accuracy: 0.9417 - val_loss: 0.5994 - val_accuracy: 1.0000\n",
            "Epoch 10/50\n",
            "8/8 [==============================] - 0s 9ms/step - loss: 0.2452 - accuracy: 0.9250 - val_loss: 0.5729 - val_accuracy: 0.9667\n",
            "Epoch 11/50\n",
            "8/8 [==============================] - 0s 11ms/step - loss: 0.1848 - accuracy: 0.9667 - val_loss: 0.5443 - val_accuracy: 0.9667\n",
            "Epoch 12/50\n",
            "8/8 [==============================] - 0s 11ms/step - loss: 0.1721 - accuracy: 0.9583 - val_loss: 0.5177 - val_accuracy: 0.9667\n",
            "Epoch 13/50\n",
            "8/8 [==============================] - 0s 8ms/step - loss: 0.2118 - accuracy: 0.9333 - val_loss: 0.4952 - val_accuracy: 0.9667\n",
            "Epoch 14/50\n",
            "8/8 [==============================] - 0s 9ms/step - loss: 0.1716 - accuracy: 0.9417 - val_loss: 0.4717 - val_accuracy: 0.9667\n",
            "Epoch 15/50\n",
            "8/8 [==============================] - 0s 12ms/step - loss: 0.2159 - accuracy: 0.9250 - val_loss: 0.4589 - val_accuracy: 0.9667\n",
            "Epoch 16/50\n",
            "8/8 [==============================] - 0s 11ms/step - loss: 0.1666 - accuracy: 0.9750 - val_loss: 0.4449 - val_accuracy: 0.9333\n",
            "Epoch 17/50\n",
            "8/8 [==============================] - 0s 10ms/step - loss: 0.1356 - accuracy: 0.9750 - val_loss: 0.4233 - val_accuracy: 0.9333\n",
            "Epoch 18/50\n",
            "8/8 [==============================] - 0s 8ms/step - loss: 0.1483 - accuracy: 0.9583 - val_loss: 0.4041 - val_accuracy: 0.9333\n",
            "Epoch 19/50\n",
            "8/8 [==============================] - 0s 10ms/step - loss: 0.1374 - accuracy: 0.9750 - val_loss: 0.3815 - val_accuracy: 0.9333\n",
            "Epoch 20/50\n",
            "8/8 [==============================] - 0s 11ms/step - loss: 0.1178 - accuracy: 0.9500 - val_loss: 0.3600 - val_accuracy: 0.9333\n",
            "Epoch 21/50\n",
            "8/8 [==============================] - 0s 10ms/step - loss: 0.1136 - accuracy: 0.9667 - val_loss: 0.3373 - val_accuracy: 0.9667\n",
            "Epoch 22/50\n",
            "8/8 [==============================] - 0s 8ms/step - loss: 0.1054 - accuracy: 0.9750 - val_loss: 0.3173 - val_accuracy: 0.9667\n",
            "Epoch 23/50\n",
            "8/8 [==============================] - 0s 10ms/step - loss: 0.1329 - accuracy: 0.9500 - val_loss: 0.3029 - val_accuracy: 0.9667\n",
            "Epoch 24/50\n",
            "8/8 [==============================] - 0s 11ms/step - loss: 0.1101 - accuracy: 0.9917 - val_loss: 0.2888 - val_accuracy: 0.9667\n",
            "Epoch 25/50\n",
            "8/8 [==============================] - 0s 11ms/step - loss: 0.1409 - accuracy: 0.9500 - val_loss: 0.2745 - val_accuracy: 0.9667\n",
            "Epoch 26/50\n",
            "8/8 [==============================] - 0s 11ms/step - loss: 0.0920 - accuracy: 0.9917 - val_loss: 0.2748 - val_accuracy: 0.9333\n",
            "Epoch 27/50\n",
            "8/8 [==============================] - 0s 10ms/step - loss: 0.1039 - accuracy: 0.9667 - val_loss: 0.2629 - val_accuracy: 0.9333\n",
            "Epoch 28/50\n",
            "8/8 [==============================] - 0s 12ms/step - loss: 0.0977 - accuracy: 0.9750 - val_loss: 0.2468 - val_accuracy: 0.9333\n",
            "Epoch 29/50\n",
            "8/8 [==============================] - 0s 10ms/step - loss: 0.1173 - accuracy: 0.9500 - val_loss: 0.2298 - val_accuracy: 0.9667\n",
            "Epoch 30/50\n",
            "8/8 [==============================] - 0s 9ms/step - loss: 0.1179 - accuracy: 0.9667 - val_loss: 0.2178 - val_accuracy: 0.9667\n",
            "Epoch 31/50\n",
            "8/8 [==============================] - 0s 12ms/step - loss: 0.0875 - accuracy: 0.9667 - val_loss: 0.2107 - val_accuracy: 0.9667\n",
            "Epoch 32/50\n",
            "8/8 [==============================] - 0s 11ms/step - loss: 0.0878 - accuracy: 0.9750 - val_loss: 0.1970 - val_accuracy: 0.9667\n",
            "Epoch 33/50\n",
            "8/8 [==============================] - 0s 9ms/step - loss: 0.0735 - accuracy: 0.9917 - val_loss: 0.1784 - val_accuracy: 0.9667\n",
            "Epoch 34/50\n",
            "8/8 [==============================] - 0s 12ms/step - loss: 0.0668 - accuracy: 0.9833 - val_loss: 0.1697 - val_accuracy: 0.9667\n",
            "Epoch 35/50\n",
            "8/8 [==============================] - 0s 8ms/step - loss: 0.0682 - accuracy: 0.9917 - val_loss: 0.1649 - val_accuracy: 0.9667\n",
            "Epoch 36/50\n",
            "8/8 [==============================] - 0s 12ms/step - loss: 0.0735 - accuracy: 0.9750 - val_loss: 0.1566 - val_accuracy: 0.9667\n",
            "Epoch 37/50\n",
            "8/8 [==============================] - 0s 11ms/step - loss: 0.0973 - accuracy: 0.9583 - val_loss: 0.1508 - val_accuracy: 0.9667\n",
            "Epoch 38/50\n",
            "8/8 [==============================] - 0s 11ms/step - loss: 0.1129 - accuracy: 0.9667 - val_loss: 0.1444 - val_accuracy: 0.9667\n",
            "Epoch 39/50\n",
            "8/8 [==============================] - 0s 11ms/step - loss: 0.1029 - accuracy: 0.9667 - val_loss: 0.1358 - val_accuracy: 0.9667\n",
            "Epoch 40/50\n",
            "8/8 [==============================] - 0s 11ms/step - loss: 0.0962 - accuracy: 0.9500 - val_loss: 0.1299 - val_accuracy: 0.9667\n",
            "Epoch 41/50\n",
            "8/8 [==============================] - 0s 6ms/step - loss: 0.0633 - accuracy: 0.9833 - val_loss: 0.1238 - val_accuracy: 0.9667\n",
            "Epoch 42/50\n",
            "8/8 [==============================] - 0s 9ms/step - loss: 0.0608 - accuracy: 0.9750 - val_loss: 0.1201 - val_accuracy: 0.9667\n",
            "Epoch 43/50\n",
            "8/8 [==============================] - 0s 6ms/step - loss: 0.1169 - accuracy: 0.9583 - val_loss: 0.1232 - val_accuracy: 0.9667\n",
            "Epoch 44/50\n",
            "8/8 [==============================] - 0s 6ms/step - loss: 0.0814 - accuracy: 0.9833 - val_loss: 0.1179 - val_accuracy: 0.9667\n",
            "Epoch 45/50\n",
            "8/8 [==============================] - 0s 8ms/step - loss: 0.1341 - accuracy: 0.9667 - val_loss: 0.1209 - val_accuracy: 0.9667\n",
            "Epoch 46/50\n",
            "8/8 [==============================] - 0s 6ms/step - loss: 0.0618 - accuracy: 0.9833 - val_loss: 0.1316 - val_accuracy: 0.9333\n",
            "Epoch 47/50\n",
            "8/8 [==============================] - 0s 6ms/step - loss: 0.0622 - accuracy: 0.9833 - val_loss: 0.1134 - val_accuracy: 0.9667\n",
            "Epoch 48/50\n",
            "8/8 [==============================] - 0s 6ms/step - loss: 0.1090 - accuracy: 0.9667 - val_loss: 0.1008 - val_accuracy: 0.9667\n",
            "Epoch 49/50\n",
            "8/8 [==============================] - 0s 6ms/step - loss: 0.0591 - accuracy: 0.9833 - val_loss: 0.1118 - val_accuracy: 0.9667\n",
            "Epoch 50/50\n",
            "8/8 [==============================] - 0s 8ms/step - loss: 0.0908 - accuracy: 0.9583 - val_loss: 0.1133 - val_accuracy: 0.9333\n"
          ]
        },
        {
          "output_type": "execute_result",
          "data": {
            "text/plain": [
              "<keras.src.callbacks.History at 0x7b76e94a26b0>"
            ]
          },
          "metadata": {},
          "execution_count": 15
        }
      ]
    },
    {
      "cell_type": "code",
      "source": [
        "loss, accuracy = model.evaluate(X_test, y_test)\n",
        "print(f\"Loss: {loss}\")\n",
        "print(f\"Accuracy: {accuracy}\")"
      ],
      "metadata": {
        "colab": {
          "base_uri": "https://localhost:8080/"
        },
        "id": "fU6wY96aZ-7O",
        "outputId": "8a105703-95aa-4737-e2dd-e80530ddc8a3"
      },
      "execution_count": null,
      "outputs": [
        {
          "output_type": "stream",
          "name": "stdout",
          "text": [
            "1/1 [==============================] - 0s 51ms/step - loss: 0.1133 - accuracy: 0.9333\n",
            "Loss: 0.1132713034749031\n",
            "Accuracy: 0.9333333373069763\n"
          ]
        }
      ]
    },
    {
      "cell_type": "code",
      "source": [],
      "metadata": {
        "id": "aJK6yfOnaDJ5"
      },
      "execution_count": null,
      "outputs": []
    }
  ]
}